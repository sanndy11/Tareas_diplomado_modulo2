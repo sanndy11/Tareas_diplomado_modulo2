{
  "nbformat": 4,
  "nbformat_minor": 0,
  "metadata": {
    "colab": {
      "provenance": [],
      "authorship_tag": "ABX9TyMtBg5APwvHdn/V2yZD7e9V",
      "include_colab_link": true
    },
    "kernelspec": {
      "name": "python3",
      "display_name": "Python 3"
    },
    "language_info": {
      "name": "python"
    }
  },
  "cells": [
    {
      "cell_type": "markdown",
      "metadata": {
        "id": "view-in-github",
        "colab_type": "text"
      },
      "source": [
        "<a href=\"https://colab.research.google.com/github/sanndy11/Tareas_diplomado_modulo2/blob/main/Leyes_de_Variables_Aletorias.ipynb\" target=\"_parent\"><img src=\"https://colab.research.google.com/assets/colab-badge.svg\" alt=\"Open In Colab\"/></a>"
      ]
    },
    {
      "cell_type": "markdown",
      "source": [
        "#**Calcular las Leyes de las Variables aleatorias**\n",
        "\n",
        "Alumna: Hernández Nájera Sandra Xochiquetzalli"
      ],
      "metadata": {
        "id": "Iw5wylfjLROW"
      }
    },
    {
      "cell_type": "markdown",
      "source": [
        "## Ejercicios\n",
        "\n",
        "1.   Documenta tu colab\n",
        "2.   Calcular la ley de las siguientes variables aleatorias\n",
        "     *   La diferencia de las caras es mayor que 1\n",
        "     *   La suma de las caras sea par\n",
        "3. Verifica en cada caso, que\n",
        "   $$\\sum_{k\\in R_{X}}\\mathbb{P}(X=k) = 1$$\n",
        "4. Gráfica y calcula la función de distribución de la v.a. S (la suma de los resultados es n)   \n",
        "5. Sube tu notebook a GitHub\n"
      ],
      "metadata": {
        "id": "33dtH7rxZMAv"
      }
    },
    {
      "cell_type": "code",
      "source": [
        "import numpy as np\n",
        "import pandas as pd\n",
        "import matplotlib.pyplot as plt\n",
        "from itertools import product\n",
        "from fractions import Fraction as frac"
      ],
      "metadata": {
        "id": "38JAIrwJMLD5"
      },
      "execution_count": 10,
      "outputs": []
    },
    {
      "cell_type": "code",
      "source": [
        "#Primero vamos a crear a nuestro espacio muestral Omega\n",
        "L = [i for i in range(1,7)] #Lista por comprensión\n",
        "#print(L)\n",
        "Omega = set(product(L, repeat=2))\n",
        "Omega"
      ],
      "metadata": {
        "colab": {
          "base_uri": "https://localhost:8080/"
        },
        "id": "Q5ok1HCnILJE",
        "outputId": "ebdf4555-e823-4635-95cd-17f5a00612ec"
      },
      "execution_count": 11,
      "outputs": [
        {
          "output_type": "execute_result",
          "data": {
            "text/plain": [
              "{(1, 1),\n",
              " (1, 2),\n",
              " (1, 3),\n",
              " (1, 4),\n",
              " (1, 5),\n",
              " (1, 6),\n",
              " (2, 1),\n",
              " (2, 2),\n",
              " (2, 3),\n",
              " (2, 4),\n",
              " (2, 5),\n",
              " (2, 6),\n",
              " (3, 1),\n",
              " (3, 2),\n",
              " (3, 3),\n",
              " (3, 4),\n",
              " (3, 5),\n",
              " (3, 6),\n",
              " (4, 1),\n",
              " (4, 2),\n",
              " (4, 3),\n",
              " (4, 4),\n",
              " (4, 5),\n",
              " (4, 6),\n",
              " (5, 1),\n",
              " (5, 2),\n",
              " (5, 3),\n",
              " (5, 4),\n",
              " (5, 5),\n",
              " (5, 6),\n",
              " (6, 1),\n",
              " (6, 2),\n",
              " (6, 3),\n",
              " (6, 4),\n",
              " (6, 5),\n",
              " (6, 6)}"
            ]
          },
          "metadata": {},
          "execution_count": 11
        }
      ]
    },
    {
      "cell_type": "code",
      "source": [
        "def P(A, Omega):\n",
        "  P = frac(len(A),len(Omega))\n",
        "  return P"
      ],
      "metadata": {
        "id": "TNL94Fr4MXzI"
      },
      "execution_count": 12,
      "outputs": []
    },
    {
      "cell_type": "markdown",
      "source": [
        "#**La diferencia de las caras es mayor a 1**"
      ],
      "metadata": {
        "id": "NQ39dPZQLjXZ"
      }
    },
    {
      "cell_type": "code",
      "source": [
        "#La diferencia de las caras es mayor a 1\n",
        "S = {(i,j) for i in range (1,7) for j in range (1,7) if abs(i-j)>1}\n",
        "Sc = Omega.difference(S)"
      ],
      "metadata": {
        "id": "xrNvGXnjMs3d"
      },
      "execution_count": 13,
      "outputs": []
    },
    {
      "cell_type": "code",
      "source": [
        "S"
      ],
      "metadata": {
        "colab": {
          "base_uri": "https://localhost:8080/"
        },
        "id": "aE1K0Bt8Iewd",
        "outputId": "e7df5d22-e475-4cd9-c2ad-5257374da510"
      },
      "execution_count": 14,
      "outputs": [
        {
          "output_type": "execute_result",
          "data": {
            "text/plain": [
              "{(1, 3),\n",
              " (1, 4),\n",
              " (1, 5),\n",
              " (1, 6),\n",
              " (2, 4),\n",
              " (2, 5),\n",
              " (2, 6),\n",
              " (3, 1),\n",
              " (3, 5),\n",
              " (3, 6),\n",
              " (4, 1),\n",
              " (4, 2),\n",
              " (4, 6),\n",
              " (5, 1),\n",
              " (5, 2),\n",
              " (5, 3),\n",
              " (6, 1),\n",
              " (6, 2),\n",
              " (6, 3),\n",
              " (6, 4)}"
            ]
          },
          "metadata": {},
          "execution_count": 14
        }
      ]
    },
    {
      "cell_type": "code",
      "source": [
        "Sc"
      ],
      "metadata": {
        "colab": {
          "base_uri": "https://localhost:8080/"
        },
        "id": "pz3rTWnEM-gS",
        "outputId": "47b008bc-a76b-481e-acb1-079d06415340"
      },
      "execution_count": 15,
      "outputs": [
        {
          "output_type": "execute_result",
          "data": {
            "text/plain": [
              "{(1, 1),\n",
              " (1, 2),\n",
              " (2, 1),\n",
              " (2, 2),\n",
              " (2, 3),\n",
              " (3, 2),\n",
              " (3, 3),\n",
              " (3, 4),\n",
              " (4, 3),\n",
              " (4, 4),\n",
              " (4, 5),\n",
              " (5, 4),\n",
              " (5, 5),\n",
              " (5, 6),\n",
              " (6, 5),\n",
              " (6, 6)}"
            ]
          },
          "metadata": {},
          "execution_count": 15
        }
      ]
    },
    {
      "cell_type": "code",
      "source": [
        "#Suma de las probabilidades\n",
        "print(P(S,Omega)+P(Sc,Omega))"
      ],
      "metadata": {
        "colab": {
          "base_uri": "https://localhost:8080/"
        },
        "id": "bUCU1_sGNA02",
        "outputId": "f6c68da1-8556-4ab6-b4e8-c90ff6e883d5"
      },
      "execution_count": 16,
      "outputs": [
        {
          "output_type": "stream",
          "name": "stdout",
          "text": [
            "1\n"
          ]
        }
      ]
    },
    {
      "cell_type": "code",
      "source": [
        "#Probabilidad de que el la diferencia de dos caras sea mayor a 1\n",
        "print(P(S,Omega))"
      ],
      "metadata": {
        "colab": {
          "base_uri": "https://localhost:8080/"
        },
        "id": "5Iv0-11nNLki",
        "outputId": "7c677682-c5b5-48b0-9f85-2207d7669aa3"
      },
      "execution_count": 18,
      "outputs": [
        {
          "output_type": "stream",
          "name": "stdout",
          "text": [
            "5/9\n"
          ]
        }
      ]
    },
    {
      "cell_type": "code",
      "source": [
        "eventos = ['S', 'Sc']\n",
        "frecuencias = [len(S), len(Sc)]\n",
        "\n",
        "plt.bar(eventos, frecuencias, color=['green', 'cyan'])\n",
        "plt.title('Función de densidad')\n",
        "plt.xlabel('Evento')\n",
        "plt.ylabel('Frecuencia')\n",
        "plt.show()"
      ],
      "metadata": {
        "colab": {
          "base_uri": "https://localhost:8080/",
          "height": 472
        },
        "id": "wnxYaawQOv-Q",
        "outputId": "3ca8db43-29a4-49e1-e682-cf734bcb5964"
      },
      "execution_count": 29,
      "outputs": [
        {
          "output_type": "display_data",
          "data": {
            "text/plain": [
              "<Figure size 640x480 with 1 Axes>"
            ],
            "image/png": "[encoded data removed]"
          },
          "metadata": {}
        }
      ]
    },
    {
      "cell_type": "markdown",
      "source": [
        "#**La suma de las caras sea par**"
      ],
      "metadata": {
        "id": "gyH71O9MX33Y"
      }
    },
    {
      "cell_type": "code",
      "source": [
        "#La diferencia de las caras es mayor a 1\n",
        "S = {(i,j) for i in range (1,7) for j in range (1,7) if (i+j)%2 == 0}\n",
        "Sc = Omega.difference(S)"
      ],
      "metadata": {
        "id": "TsnXOS7lPRVA"
      },
      "execution_count": 30,
      "outputs": []
    },
    {
      "cell_type": "code",
      "source": [
        "S"
      ],
      "metadata": {
        "colab": {
          "base_uri": "https://localhost:8080/"
        },
        "outputId": "f7e11fed-174b-4102-d72e-e1598a3b6983",
        "id": "VwOj1nvlPRVB"
      },
      "execution_count": 31,
      "outputs": [
        {
          "output_type": "execute_result",
          "data": {
            "text/plain": [
              "{(1, 1),\n",
              " (1, 3),\n",
              " (1, 5),\n",
              " (2, 2),\n",
              " (2, 4),\n",
              " (2, 6),\n",
              " (3, 1),\n",
              " (3, 3),\n",
              " (3, 5),\n",
              " (4, 2),\n",
              " (4, 4),\n",
              " (4, 6),\n",
              " (5, 1),\n",
              " (5, 3),\n",
              " (5, 5),\n",
              " (6, 2),\n",
              " (6, 4),\n",
              " (6, 6)}"
            ]
          },
          "metadata": {},
          "execution_count": 31
        }
      ]
    },
    {
      "cell_type": "code",
      "source": [
        "Sc"
      ],
      "metadata": {
        "colab": {
          "base_uri": "https://localhost:8080/"
        },
        "outputId": "78e6c24f-1170-4c49-9865-79efec5d8b64",
        "id": "1bRSFOZgPRVC"
      },
      "execution_count": 32,
      "outputs": [
        {
          "output_type": "execute_result",
          "data": {
            "text/plain": [
              "{(1, 2),\n",
              " (1, 4),\n",
              " (1, 6),\n",
              " (2, 1),\n",
              " (2, 3),\n",
              " (2, 5),\n",
              " (3, 2),\n",
              " (3, 4),\n",
              " (3, 6),\n",
              " (4, 1),\n",
              " (4, 3),\n",
              " (4, 5),\n",
              " (5, 2),\n",
              " (5, 4),\n",
              " (5, 6),\n",
              " (6, 1),\n",
              " (6, 3),\n",
              " (6, 5)}"
            ]
          },
          "metadata": {},
          "execution_count": 32
        }
      ]
    },
    {
      "cell_type": "code",
      "source": [
        "#Suma de las probabilidades\n",
        "print(P(S,Omega)+P(Sc,Omega))"
      ],
      "metadata": {
        "colab": {
          "base_uri": "https://localhost:8080/"
        },
        "outputId": "c4a47e6e-f8e9-4798-a73d-842735cba86b",
        "id": "hgvf0hFvPRVD"
      },
      "execution_count": 33,
      "outputs": [
        {
          "output_type": "stream",
          "name": "stdout",
          "text": [
            "1\n"
          ]
        }
      ]
    },
    {
      "cell_type": "code",
      "source": [
        "#Probabilidad de que el la diferencia de dos caras sea mayor a 1\n",
        "print(P(S,Omega))"
      ],
      "metadata": {
        "colab": {
          "base_uri": "https://localhost:8080/"
        },
        "outputId": "e5232064-e392-4165-ae00-46ea4f33b156",
        "id": "fT5g8IQ_PRVE"
      },
      "execution_count": 34,
      "outputs": [
        {
          "output_type": "stream",
          "name": "stdout",
          "text": [
            "1/2\n"
          ]
        }
      ]
    },
    {
      "cell_type": "code",
      "source": [
        "eventos = ['S', 'Sc']\n",
        "frecuencias = [len(S), len(Sc)]\n",
        "\n",
        "plt.bar(eventos, frecuencias, color=['orange', 'pink'])\n",
        "plt.title('Función de Densidad')\n",
        "plt.xlabel('Eventos')\n",
        "plt.ylabel('Frecuencia')\n",
        "plt.show()"
      ],
      "metadata": {
        "colab": {
          "base_uri": "https://localhost:8080/",
          "height": 472
        },
        "outputId": "30a4c4de-48cb-400c-f8d8-2cd93d01f34b",
        "id": "5PmTNoB8PRVE"
      },
      "execution_count": 35,
      "outputs": [
        {
          "output_type": "display_data",
          "data": {
            "text/plain": [
              "<Figure size 640x480 with 1 Axes>"
            ],
            "image/png": "[encoded data removed]"
          },
          "metadata": {}
        }
      ]
    },
    {
      "cell_type": "code",
      "source": [],
      "metadata": {
        "id": "DLNlDW8lPNU_"
      },
      "execution_count": null,
      "outputs": []
    },
    {
      "cell_type": "code",
      "source": [],
      "metadata": {
        "id": "FHcKOhHBPuGy"
      },
      "execution_count": null,
      "outputs": []
    }
  ]
}